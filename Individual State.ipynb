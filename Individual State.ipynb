{
 "cells": [
  {
   "cell_type": "code",
   "execution_count": 2,
   "metadata": {},
   "outputs": [],
   "source": [
    "import pandas as pd\n"
   ]
  },
  {
   "cell_type": "code",
   "execution_count": 3,
   "metadata": {},
   "outputs": [
    {
     "name": "stdout",
     "output_type": "stream",
     "text": [
      "Received latest NYT Data\n"
     ]
    }
   ],
   "source": [
    "\n",
    "try:\n",
    "    counties_url = 'https://raw.githubusercontent.com/nytimes/covid-19-data/master/us-counties.csv'\n",
    "    states_url = 'https://raw.githubusercontent.com/nytimes/covid-19-data/master/us-states.csv'\n",
    "    county_data = pd.read_csv(counties_url,dtype={\"fips\": str})\n",
    "    state_data = pd.read_csv(states_url,dtype={\"fips\": str})\n",
    "    print(\"Received latest NYT Data\")\n",
    "except:\n",
    "    county_data = pd.read_csv('data/data/us-counties.csv',dtype={\"fips\": str})\n",
    "    state_data = pd.read_csv('data/data/us-states.csv',dtype={\"fips\": str})\n",
    "    print(\"Could not get latest NYT Data, falling back to local 4-3-20 data\")\n"
   ]
  },
  {
   "cell_type": "code",
   "execution_count": null,
   "metadata": {},
   "outputs": [],
   "source": [
    "states = state_data.state.unique()\n",
    "\n",
    "print(states)\n",
    "print(len(states))\n",
    "\n",
    "fig = make_subplots(rows = 11, cols = 5)\n",
    "\n",
    "for i,each in enumerate(states):\n",
    "    plus = i + 1\n",
    "    row = i // 5 + 1\n",
    "    col = i % 5 + 1\n",
    "    print(plus)\n",
    "    print(\"row {}, col {}\".format(row,col))"
   ]
  },
  {
   "cell_type": "code",
   "execution_count": 4,
   "metadata": {},
   "outputs": [],
   "source": [
    "test = state_data[state_data.state== \"California\"]"
   ]
  },
  {
   "cell_type": "code",
   "execution_count": 7,
   "metadata": {},
   "outputs": [],
   "source": [
    "days = 8"
   ]
  },
  {
   "cell_type": "code",
   "execution_count": 8,
   "metadata": {
    "scrolled": true
   },
   "outputs": [
    {
     "data": {
      "text/html": [
       "<div>\n",
       "<style scoped>\n",
       "    .dataframe tbody tr th:only-of-type {\n",
       "        vertical-align: middle;\n",
       "    }\n",
       "\n",
       "    .dataframe tbody tr th {\n",
       "        vertical-align: top;\n",
       "    }\n",
       "\n",
       "    .dataframe thead th {\n",
       "        text-align: right;\n",
       "    }\n",
       "</style>\n",
       "<table border=\"1\" class=\"dataframe\">\n",
       "  <thead>\n",
       "    <tr style=\"text-align: right;\">\n",
       "      <th></th>\n",
       "      <th>date</th>\n",
       "      <th>state</th>\n",
       "      <th>fips</th>\n",
       "      <th>cases</th>\n",
       "      <th>deaths</th>\n",
       "    </tr>\n",
       "  </thead>\n",
       "  <tbody>\n",
       "    <tr>\n",
       "      <th>7663</th>\n",
       "      <td>2020-07-20</td>\n",
       "      <td>California</td>\n",
       "      <td>06</td>\n",
       "      <td>400195</td>\n",
       "      <td>7764</td>\n",
       "    </tr>\n",
       "    <tr>\n",
       "      <th>7718</th>\n",
       "      <td>2020-07-21</td>\n",
       "      <td>California</td>\n",
       "      <td>06</td>\n",
       "      <td>410366</td>\n",
       "      <td>7883</td>\n",
       "    </tr>\n",
       "    <tr>\n",
       "      <th>7773</th>\n",
       "      <td>2020-07-22</td>\n",
       "      <td>California</td>\n",
       "      <td>06</td>\n",
       "      <td>422528</td>\n",
       "      <td>8038</td>\n",
       "    </tr>\n",
       "    <tr>\n",
       "      <th>7828</th>\n",
       "      <td>2020-07-23</td>\n",
       "      <td>California</td>\n",
       "      <td>06</td>\n",
       "      <td>433175</td>\n",
       "      <td>8190</td>\n",
       "    </tr>\n",
       "    <tr>\n",
       "      <th>7883</th>\n",
       "      <td>2020-07-24</td>\n",
       "      <td>California</td>\n",
       "      <td>06</td>\n",
       "      <td>443096</td>\n",
       "      <td>8325</td>\n",
       "    </tr>\n",
       "    <tr>\n",
       "      <th>7938</th>\n",
       "      <td>2020-07-25</td>\n",
       "      <td>California</td>\n",
       "      <td>06</td>\n",
       "      <td>453327</td>\n",
       "      <td>8428</td>\n",
       "    </tr>\n",
       "    <tr>\n",
       "      <th>7993</th>\n",
       "      <td>2020-07-26</td>\n",
       "      <td>California</td>\n",
       "      <td>06</td>\n",
       "      <td>459338</td>\n",
       "      <td>8451</td>\n",
       "    </tr>\n",
       "    <tr>\n",
       "      <th>8048</th>\n",
       "      <td>2020-07-27</td>\n",
       "      <td>California</td>\n",
       "      <td>06</td>\n",
       "      <td>467056</td>\n",
       "      <td>8544</td>\n",
       "    </tr>\n",
       "  </tbody>\n",
       "</table>\n",
       "</div>"
      ],
      "text/plain": [
       "            date       state fips   cases  deaths\n",
       "7663  2020-07-20  California   06  400195    7764\n",
       "7718  2020-07-21  California   06  410366    7883\n",
       "7773  2020-07-22  California   06  422528    8038\n",
       "7828  2020-07-23  California   06  433175    8190\n",
       "7883  2020-07-24  California   06  443096    8325\n",
       "7938  2020-07-25  California   06  453327    8428\n",
       "7993  2020-07-26  California   06  459338    8451\n",
       "8048  2020-07-27  California   06  467056    8544"
      ]
     },
     "execution_count": 8,
     "metadata": {},
     "output_type": "execute_result"
    }
   ],
   "source": [
    "test.iloc[-days:,:]"
   ]
  },
  {
   "cell_type": "code",
   "execution_count": 61,
   "metadata": {},
   "outputs": [],
   "source": [
    "def last_week_today(state,days):\n",
    "    days = days + 2\n",
    "    data = state_data[state_data.state == state].iloc[-days:,:]\n",
    "    data['diff'] = data.cases.diff()\n",
    "    data['rate'] = data['diff'].diff()\n",
    "    data['plusminus'] = data['rate'].apply(lambda x: 1 if x > 0 else -1)\n",
    "    data = data.iloc[-(days-2):,:]\n",
    "    total = data.plusminus.sum()\n",
    "    \n",
    "    return total"
   ]
  },
  {
   "cell_type": "code",
   "execution_count": 62,
   "metadata": {},
   "outputs": [
    {
     "data": {
      "text/plain": [
       "1"
      ]
     },
     "execution_count": 62,
     "metadata": {},
     "output_type": "execute_result"
    }
   ],
   "source": [
    "last_week_today('California',3)"
   ]
  },
  {
   "cell_type": "code",
   "execution_count": 64,
   "metadata": {},
   "outputs": [
    {
     "data": {
      "text/plain": [
       "-3"
      ]
     },
     "execution_count": 64,
     "metadata": {},
     "output_type": "execute_result"
    }
   ],
   "source": [
    "last_week_today('Florida',3)"
   ]
  },
  {
   "cell_type": "code",
   "execution_count": 65,
   "metadata": {},
   "outputs": [],
   "source": [
    "gradient = ['920101','A43904','B67B09','C8C70F','99DA15','63EC1C','26FE24']"
   ]
  },
  {
   "cell_type": "code",
   "execution_count": 66,
   "metadata": {},
   "outputs": [],
   "source": [
    "gradient = {-3:'920101',\n",
    "            -2:'A43904',\n",
    "            -1:'B67B09',\n",
    "            0:'C8C70F',\n",
    "            1:'99DA15',\n",
    "            2:'63EC1C',\n",
    "            3:'63EC1C',\n",
    "           }"
   ]
  },
  {
   "cell_type": "code",
   "execution_count": 67,
   "metadata": {},
   "outputs": [
    {
     "data": {
      "text/plain": [
       "'C8C70F'"
      ]
     },
     "execution_count": 67,
     "metadata": {},
     "output_type": "execute_result"
    }
   ],
   "source": [
    "gradient[0]"
   ]
  },
  {
   "cell_type": "code",
   "execution_count": null,
   "metadata": {},
   "outputs": [],
   "source": []
  }
 ],
 "metadata": {
  "kernelspec": {
   "display_name": "Python 3",
   "language": "python",
   "name": "python3"
  },
  "language_info": {
   "codemirror_mode": {
    "name": "ipython",
    "version": 3
   },
   "file_extension": ".py",
   "mimetype": "text/x-python",
   "name": "python",
   "nbconvert_exporter": "python",
   "pygments_lexer": "ipython3",
   "version": "3.7.3"
  }
 },
 "nbformat": 4,
 "nbformat_minor": 2
}
