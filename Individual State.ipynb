{
 "cells": [
  {
   "cell_type": "code",
   "execution_count": 22,
   "metadata": {},
   "outputs": [],
   "source": [
    "import pandas as pd\n"
   ]
  },
  {
   "cell_type": "code",
   "execution_count": 23,
   "metadata": {},
   "outputs": [
    {
     "name": "stdout",
     "output_type": "stream",
     "text": [
      "Received latest NYT Data\n"
     ]
    }
   ],
   "source": [
    "\n",
    "try:\n",
    "    counties_url = 'https://raw.githubusercontent.com/nytimes/covid-19-data/master/us-counties.csv'\n",
    "    states_url = 'https://raw.githubusercontent.com/nytimes/covid-19-data/master/us-states.csv'\n",
    "    county_data = pd.read_csv(counties_url,dtype={\"fips\": str})\n",
    "    state_data = pd.read_csv(states_url,dtype={\"fips\": str})\n",
    "    print(\"Received latest NYT Data\")\n",
    "except:\n",
    "    county_data = pd.read_csv('data/data/us-counties.csv',dtype={\"fips\": str})\n",
    "    state_data = pd.read_csv('data/data/us-states.csv',dtype={\"fips\": str})\n",
    "    print(\"Could not get latest NYT Data, falling back to local 4-3-20 data\")\n"
   ]
  },
  {
   "cell_type": "code",
   "execution_count": 29,
   "metadata": {},
   "outputs": [
    {
     "name": "stdout",
     "output_type": "stream",
     "text": [
      "['Washington' 'Illinois' 'California' 'Arizona' 'Massachusetts'\n",
      " 'Wisconsin' 'Texas' 'Nebraska' 'Utah' 'Oregon' 'Florida' 'New York'\n",
      " 'Rhode Island' 'Georgia' 'New Hampshire' 'North Carolina' 'New Jersey'\n",
      " 'Colorado' 'Maryland' 'Nevada' 'Tennessee' 'Hawaii' 'Indiana' 'Kentucky'\n",
      " 'Minnesota' 'Oklahoma' 'Pennsylvania' 'South Carolina'\n",
      " 'District of Columbia' 'Kansas' 'Missouri' 'Vermont' 'Virginia'\n",
      " 'Connecticut' 'Iowa' 'Louisiana' 'Ohio' 'Michigan' 'South Dakota'\n",
      " 'Arkansas' 'Delaware' 'Mississippi' 'New Mexico' 'North Dakota' 'Wyoming'\n",
      " 'Alaska' 'Maine' 'Alabama' 'Idaho' 'Montana' 'Puerto Rico'\n",
      " 'Virgin Islands' 'Guam' 'West Virginia' 'Northern Mariana Islands']\n",
      "55\n",
      "1\n",
      "row 1, col 1\n",
      "2\n",
      "row 1, col 2\n",
      "3\n",
      "row 1, col 3\n",
      "4\n",
      "row 1, col 4\n",
      "5\n",
      "row 1, col 5\n",
      "6\n",
      "row 2, col 1\n",
      "7\n",
      "row 2, col 2\n",
      "8\n",
      "row 2, col 3\n",
      "9\n",
      "row 2, col 4\n",
      "10\n",
      "row 2, col 5\n",
      "11\n",
      "row 3, col 1\n",
      "12\n",
      "row 3, col 2\n",
      "13\n",
      "row 3, col 3\n",
      "14\n",
      "row 3, col 4\n",
      "15\n",
      "row 3, col 5\n",
      "16\n",
      "row 4, col 1\n",
      "17\n",
      "row 4, col 2\n",
      "18\n",
      "row 4, col 3\n",
      "19\n",
      "row 4, col 4\n",
      "20\n",
      "row 4, col 5\n",
      "21\n",
      "row 5, col 1\n",
      "22\n",
      "row 5, col 2\n",
      "23\n",
      "row 5, col 3\n",
      "24\n",
      "row 5, col 4\n",
      "25\n",
      "row 5, col 5\n",
      "26\n",
      "row 6, col 1\n",
      "27\n",
      "row 6, col 2\n",
      "28\n",
      "row 6, col 3\n",
      "29\n",
      "row 6, col 4\n",
      "30\n",
      "row 6, col 5\n",
      "31\n",
      "row 7, col 1\n",
      "32\n",
      "row 7, col 2\n",
      "33\n",
      "row 7, col 3\n",
      "34\n",
      "row 7, col 4\n",
      "35\n",
      "row 7, col 5\n",
      "36\n",
      "row 8, col 1\n",
      "37\n",
      "row 8, col 2\n",
      "38\n",
      "row 8, col 3\n",
      "39\n",
      "row 8, col 4\n",
      "40\n",
      "row 8, col 5\n",
      "41\n",
      "row 9, col 1\n",
      "42\n",
      "row 9, col 2\n",
      "43\n",
      "row 9, col 3\n",
      "44\n",
      "row 9, col 4\n",
      "45\n",
      "row 9, col 5\n",
      "46\n",
      "row 10, col 1\n",
      "47\n",
      "row 10, col 2\n",
      "48\n",
      "row 10, col 3\n",
      "49\n",
      "row 10, col 4\n",
      "50\n",
      "row 10, col 5\n",
      "51\n",
      "row 11, col 1\n",
      "52\n",
      "row 11, col 2\n",
      "53\n",
      "row 11, col 3\n",
      "54\n",
      "row 11, col 4\n",
      "55\n",
      "row 11, col 5\n"
     ]
    }
   ],
   "source": [
    "states = state_data.state.unique()\n",
    "\n",
    "print(states)\n",
    "print(len(states))\n",
    "\n",
    "fig = make_subplots(rows = 11, cols = 5)\n",
    "\n",
    "for i,each in enumerate(states):\n",
    "    plus = i + 1\n",
    "    row = i // 5 + 1\n",
    "    col = i % 5 + 1\n",
    "    print(plus)\n",
    "    print(\"row {}, col {}\".format(row,col))"
   ]
  },
  {
   "cell_type": "code",
   "execution_count": 28,
   "metadata": {},
   "outputs": [
    {
     "data": {
      "text/plain": [
       "0"
      ]
     },
     "execution_count": 28,
     "metadata": {},
     "output_type": "execute_result"
    }
   ],
   "source": [
    "4 // 5"
   ]
  },
  {
   "cell_type": "code",
   "execution_count": null,
   "metadata": {},
   "outputs": [],
   "source": []
  }
 ],
 "metadata": {
  "kernelspec": {
   "display_name": "Python 3",
   "language": "python",
   "name": "python3"
  },
  "language_info": {
   "codemirror_mode": {
    "name": "ipython",
    "version": 3
   },
   "file_extension": ".py",
   "mimetype": "text/x-python",
   "name": "python",
   "nbconvert_exporter": "python",
   "pygments_lexer": "ipython3",
   "version": "3.7.3"
  }
 },
 "nbformat": 4,
 "nbformat_minor": 2
}
