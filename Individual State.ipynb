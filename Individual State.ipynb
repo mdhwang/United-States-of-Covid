{
 "cells": [
  {
   "cell_type": "code",
   "execution_count": 22,
   "metadata": {},
   "outputs": [],
   "source": [
    "import pandas as pd\n"
   ]
  },
  {
   "cell_type": "code",
   "execution_count": 23,
   "metadata": {},
   "outputs": [
    {
     "name": "stdout",
     "output_type": "stream",
     "text": [
      "Received latest NYT Data\n"
     ]
    }
   ],
   "source": [
    "\n",
    "try:\n",
    "    counties_url = 'https://raw.githubusercontent.com/nytimes/covid-19-data/master/us-counties.csv'\n",
    "    states_url = 'https://raw.githubusercontent.com/nytimes/covid-19-data/master/us-states.csv'\n",
    "    county_data = pd.read_csv(counties_url,dtype={\"fips\": str})\n",
    "    state_data = pd.read_csv(states_url,dtype={\"fips\": str})\n",
    "    print(\"Received latest NYT Data\")\n",
    "except:\n",
    "    county_data = pd.read_csv('data/data/us-counties.csv',dtype={\"fips\": str})\n",
    "    state_data = pd.read_csv('data/data/us-states.csv',dtype={\"fips\": str})\n",
    "    print(\"Could not get latest NYT Data, falling back to local 4-3-20 data\")\n"
   ]
  },
  {
   "cell_type": "code",
   "execution_count": 29,
   "metadata": {},
   "outputs": [
    {
     "name": "stdout",
     "output_type": "stream",
     "text": [
      "['Washington' 'Illinois' 'California' 'Arizona' 'Massachusetts'\n",
      " 'Wisconsin' 'Texas' 'Nebraska' 'Utah' 'Oregon' 'Florida' 'New York'\n",
      " 'Rhode Island' 'Georgia' 'New Hampshire' 'North Carolina' 'New Jersey'\n",
      " 'Colorado' 'Maryland' 'Nevada' 'Tennessee' 'Hawaii' 'Indiana' 'Kentucky'\n",
      " 'Minnesota' 'Oklahoma' 'Pennsylvania' 'South Carolina'\n",
      " 'District of Columbia' 'Kansas' 'Missouri' 'Vermont' 'Virginia'\n",
      " 'Connecticut' 'Iowa' 'Louisiana' 'Ohio' 'Michigan' 'South Dakota'\n",
      " 'Arkansas' 'Delaware' 'Mississippi' 'New Mexico' 'North Dakota' 'Wyoming'\n",
      " 'Alaska' 'Maine' 'Alabama' 'Idaho' 'Montana' 'Puerto Rico'\n",
      " 'Virgin Islands' 'Guam' 'West Virginia' 'Northern Mariana Islands']\n",
      "55\n",
      "1\n",
      "row 1, col 1\n",
      "2\n",
      "row 1, col 2\n",
      "3\n",
      "row 1, col 3\n",
      "4\n",
      "row 1, col 4\n",
      "5\n",
      "row 1, col 5\n",
      "6\n",
      "row 2, col 1\n",
      "7\n",
      "row 2, col 2\n",
      "8\n",
      "row 2, col 3\n",
      "9\n",
      "row 2, col 4\n",
      "10\n",
      "row 2, col 5\n",
      "11\n",
      "row 3, col 1\n",
      "12\n",
      "row 3, col 2\n",
      "13\n",
      "row 3, col 3\n",
      "14\n",
      "row 3, col 4\n",
      "15\n",
      "row 3, col 5\n",
      "16\n",
      "row 4, col 1\n",
      "17\n",
      "row 4, col 2\n",
      "18\n",
      "row 4, col 3\n",
      "19\n",
      "row 4, col 4\n",
      "20\n",
      "row 4, col 5\n",
      "21\n",
      "row 5, col 1\n",
      "22\n",
      "row 5, col 2\n",
      "23\n",
      "row 5, col 3\n",
      "24\n",
      "row 5, col 4\n",
      "25\n",
      "row 5, col 5\n",
      "26\n",
      "row 6, col 1\n",
      "27\n",
      "row 6, col 2\n",
      "28\n",
      "row 6, col 3\n",
      "29\n",
      "row 6, col 4\n",
      "30\n",
      "row 6, col 5\n",
      "31\n",
      "row 7, col 1\n",
      "32\n",
      "row 7, col 2\n",
      "33\n",
      "row 7, col 3\n",
      "34\n",
      "row 7, col 4\n",
      "35\n",
      "row 7, col 5\n",
      "36\n",
      "row 8, col 1\n",
      "37\n",
      "row 8, col 2\n",
      "38\n",
      "row 8, col 3\n",
      "39\n",
      "row 8, col 4\n",
      "40\n",
      "row 8, col 5\n",
      "41\n",
      "row 9, col 1\n",
      "42\n",
      "row 9, col 2\n",
      "43\n",
      "row 9, col 3\n",
      "44\n",
      "row 9, col 4\n",
      "45\n",
      "row 9, col 5\n",
      "46\n",
      "row 10, col 1\n",
      "47\n",
      "row 10, col 2\n",
      "48\n",
      "row 10, col 3\n",
      "49\n",
      "row 10, col 4\n",
      "50\n",
      "row 10, col 5\n",
      "51\n",
      "row 11, col 1\n",
      "52\n",
      "row 11, col 2\n",
      "53\n",
      "row 11, col 3\n",
      "54\n",
      "row 11, col 4\n",
      "55\n",
      "row 11, col 5\n"
     ]
    }
   ],
   "source": [
    "states = state_data.state.unique()\n",
    "\n",
    "print(states)\n",
    "print(len(states))\n",
    "\n",
    "fig = make_subplots(rows = 11, cols = 5)\n",
    "\n",
    "for i,each in enumerate(states):\n",
    "    plus = i + 1\n",
    "    row = i // 5 + 1\n",
    "    col = i % 5 + 1\n",
    "    print(plus)\n",
    "    print(\"row {}, col {}\".format(row,col))"
   ]
  },
  {
   "cell_type": "code",
   "execution_count": 28,
   "metadata": {},
   "outputs": [
    {
     "data": {
      "text/plain": [
       "0"
      ]
     },
     "execution_count": 28,
     "metadata": {},
     "output_type": "execute_result"
    }
   ],
   "source": [
    "4 // 5"
   ]
  },
  {
   "cell_type": "code",
   "execution_count": 35,
   "metadata": {},
   "outputs": [],
   "source": [
    "test = state_data[state_data.state== \"California\"]"
   ]
  },
  {
   "cell_type": "code",
   "execution_count": 40,
   "metadata": {},
   "outputs": [],
   "source": [
    "days = 7"
   ]
  },
  {
   "cell_type": "code",
   "execution_count": 41,
   "metadata": {
    "scrolled": true
   },
   "outputs": [
    {
     "data": {
      "text/html": [
       "<div>\n",
       "<style scoped>\n",
       "    .dataframe tbody tr th:only-of-type {\n",
       "        vertical-align: middle;\n",
       "    }\n",
       "\n",
       "    .dataframe tbody tr th {\n",
       "        vertical-align: top;\n",
       "    }\n",
       "\n",
       "    .dataframe thead th {\n",
       "        text-align: right;\n",
       "    }\n",
       "</style>\n",
       "<table border=\"1\" class=\"dataframe\">\n",
       "  <thead>\n",
       "    <tr style=\"text-align: right;\">\n",
       "      <th></th>\n",
       "      <th>date</th>\n",
       "      <th>state</th>\n",
       "      <th>fips</th>\n",
       "      <th>cases</th>\n",
       "      <th>deaths</th>\n",
       "    </tr>\n",
       "  </thead>\n",
       "  <tbody>\n",
       "    <tr>\n",
       "      <th>7333</th>\n",
       "      <td>2020-07-14</td>\n",
       "      <td>California</td>\n",
       "      <td>06</td>\n",
       "      <td>346593</td>\n",
       "      <td>7227</td>\n",
       "    </tr>\n",
       "    <tr>\n",
       "      <th>7388</th>\n",
       "      <td>2020-07-15</td>\n",
       "      <td>California</td>\n",
       "      <td>06</td>\n",
       "      <td>355497</td>\n",
       "      <td>7368</td>\n",
       "    </tr>\n",
       "    <tr>\n",
       "      <th>7443</th>\n",
       "      <td>2020-07-16</td>\n",
       "      <td>California</td>\n",
       "      <td>06</td>\n",
       "      <td>364761</td>\n",
       "      <td>7490</td>\n",
       "    </tr>\n",
       "    <tr>\n",
       "      <th>7498</th>\n",
       "      <td>2020-07-17</td>\n",
       "      <td>California</td>\n",
       "      <td>06</td>\n",
       "      <td>374922</td>\n",
       "      <td>7607</td>\n",
       "    </tr>\n",
       "    <tr>\n",
       "      <th>7553</th>\n",
       "      <td>2020-07-18</td>\n",
       "      <td>California</td>\n",
       "      <td>06</td>\n",
       "      <td>383194</td>\n",
       "      <td>7697</td>\n",
       "    </tr>\n",
       "    <tr>\n",
       "      <th>7608</th>\n",
       "      <td>2020-07-19</td>\n",
       "      <td>California</td>\n",
       "      <td>06</td>\n",
       "      <td>391460</td>\n",
       "      <td>7710</td>\n",
       "    </tr>\n",
       "    <tr>\n",
       "      <th>7663</th>\n",
       "      <td>2020-07-20</td>\n",
       "      <td>California</td>\n",
       "      <td>06</td>\n",
       "      <td>400195</td>\n",
       "      <td>7764</td>\n",
       "    </tr>\n",
       "  </tbody>\n",
       "</table>\n",
       "</div>"
      ],
      "text/plain": [
       "            date       state fips   cases  deaths\n",
       "7333  2020-07-14  California   06  346593    7227\n",
       "7388  2020-07-15  California   06  355497    7368\n",
       "7443  2020-07-16  California   06  364761    7490\n",
       "7498  2020-07-17  California   06  374922    7607\n",
       "7553  2020-07-18  California   06  383194    7697\n",
       "7608  2020-07-19  California   06  391460    7710\n",
       "7663  2020-07-20  California   06  400195    7764"
      ]
     },
     "execution_count": 41,
     "metadata": {},
     "output_type": "execute_result"
    }
   ],
   "source": [
    "test.iloc[-days:,:]"
   ]
  },
  {
   "cell_type": "code",
   "execution_count": null,
   "metadata": {},
   "outputs": [],
   "source": []
  }
 ],
 "metadata": {
  "kernelspec": {
   "display_name": "Python 3",
   "language": "python",
   "name": "python3"
  },
  "language_info": {
   "codemirror_mode": {
    "name": "ipython",
    "version": 3
   },
   "file_extension": ".py",
   "mimetype": "text/x-python",
   "name": "python",
   "nbconvert_exporter": "python",
   "pygments_lexer": "ipython3",
   "version": "3.7.3"
  }
 },
 "nbformat": 4,
 "nbformat_minor": 2
}
