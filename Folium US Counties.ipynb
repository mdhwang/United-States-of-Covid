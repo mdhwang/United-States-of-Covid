{
 "cells": [
  {
   "cell_type": "code",
   "execution_count": 13,
   "metadata": {},
   "outputs": [],
   "source": [
    "import pandas as pd\n",
    "import folium\n",
    "# import sys\n",
    "# sys.path.insert(1,'/Users/matthewhwang/projects/covid-19-data')\n",
    "import os\n",
    "import branca\n",
    "import json\n",
    "import requests\n",
    "import math\n",
    "\n",
    "from pathlib import Path\n",
    "import pandas as pd\n",
    "import numpy as np\n",
    "\n",
    "import seaborn as sns\n",
    "import folium\n",
    "from folium.plugins import TimestampedGeoJson\n",
    "\n",
    "import copy\n",
    "\n",
    "geo_counties_json = os.path.join('data','gz_2010_us_050_00_20m.json')\n",
    "geo_states_json = os.path.join('data','us-states-full.json')"
   ]
  },
  {
   "cell_type": "markdown",
   "metadata": {},
   "source": [
    "# Gather Data from Separate Repo\n",
    "Refresh data from source repo <br>\n",
    "`git fetch --all`<br>\n",
    "`git reset --hard origin/master`"
   ]
  },
  {
   "cell_type": "markdown",
   "metadata": {},
   "source": [
    "## Import data into dataframes"
   ]
  },
  {
   "cell_type": "code",
   "execution_count": 48,
   "metadata": {},
   "outputs": [],
   "source": [
    "data_path = '/Users/matthewhwang/projects/covid-19-data/'\n",
    "county_data = pd.read_csv(data_path+'us-counties.csv')\n",
    "state_data = pd.read_csv(data_path+'us-states.csv')\n",
    "county_data = county_data.dropna()\n",
    "state_data = state_data.dropna()"
   ]
  },
  {
   "cell_type": "code",
   "execution_count": 52,
   "metadata": {},
   "outputs": [],
   "source": [
    "# Clean up State Data for ones that don't have Geo Data\n",
    "remove = [\"District of Columbia\",\"Puerto Rico\",\"Virgin Islands\",\"Northern Mariana Islands\",\"Guam\"]\n",
    "state_data = state_data[-state_data.state.isin(remove)]"
   ]
  },
  {
   "cell_type": "markdown",
   "metadata": {},
   "source": [
    "## Import US Geography JSON Files"
   ]
  },
  {
   "cell_type": "code",
   "execution_count": 14,
   "metadata": {},
   "outputs": [],
   "source": [
    "with open(geo_counties_json,encoding = \"ISO-8859-1\") as file:\n",
    "    county_geo = json.load(file)\n",
    "with open(geo_states_json) as file:\n",
    "    state_geo = json.load(file)"
   ]
  },
  {
   "cell_type": "code",
   "execution_count": 17,
   "metadata": {},
   "outputs": [
    {
     "data": {
      "text/plain": [
       "{'type': 'Feature',\n",
       " 'properties': {'GEO_ID': '0500000US01001',\n",
       "  'STATE': '01',\n",
       "  'COUNTY': '001',\n",
       "  'NAME': 'Autauga',\n",
       "  'LSAD': 'County',\n",
       "  'CENSUSAREA': 594.436},\n",
       " 'geometry': {'type': 'Polygon',\n",
       "  'coordinates': [[[-86.496774, 32.344437],\n",
       "    [-86.717897, 32.402814],\n",
       "    [-86.814912, 32.340803],\n",
       "    [-86.890581, 32.502974],\n",
       "    [-86.917595, 32.664169],\n",
       "    [-86.71339, 32.661732],\n",
       "    [-86.714219, 32.705694],\n",
       "    [-86.413116, 32.707386],\n",
       "    [-86.411172, 32.409937],\n",
       "    [-86.496774, 32.344437]]]}}"
      ]
     },
     "execution_count": 17,
     "metadata": {},
     "output_type": "execute_result"
    }
   ],
   "source": [
    "# Sample County Geometry\n",
    "# Use FIPS code as last 5 digits of GEO_ID\n",
    "county_geo['features'][0]"
   ]
  },
  {
   "cell_type": "code",
   "execution_count": 16,
   "metadata": {},
   "outputs": [
    {
     "data": {
      "text/plain": [
       "{'type': 'Feature',\n",
       " 'id': 'Alabama',\n",
       " 'properties': {'name': 'Alabama'},\n",
       " 'geometry': {'type': 'Polygon',\n",
       "  'coordinates': [[[-87.359296, 35.00118],\n",
       "    [-85.606675, 34.984749],\n",
       "    [-85.431413, 34.124869],\n",
       "    [-85.184951, 32.859696],\n",
       "    [-85.069935, 32.580372],\n",
       "    [-84.960397, 32.421541],\n",
       "    [-85.004212, 32.322956],\n",
       "    [-84.889196, 32.262709],\n",
       "    [-85.058981, 32.13674],\n",
       "    [-85.053504, 32.01077],\n",
       "    [-85.141136, 31.840985],\n",
       "    [-85.042551, 31.539753],\n",
       "    [-85.113751, 31.27686],\n",
       "    [-85.004212, 31.003013],\n",
       "    [-85.497137, 30.997536],\n",
       "    [-87.600282, 30.997536],\n",
       "    [-87.633143, 30.86609],\n",
       "    [-87.408589, 30.674397],\n",
       "    [-87.446927, 30.510088],\n",
       "    [-87.37025, 30.427934],\n",
       "    [-87.518128, 30.280057],\n",
       "    [-87.655051, 30.247195],\n",
       "    [-87.90699, 30.411504],\n",
       "    [-87.934375, 30.657966],\n",
       "    [-88.011052, 30.685351],\n",
       "    [-88.10416, 30.499135],\n",
       "    [-88.137022, 30.318396],\n",
       "    [-88.394438, 30.367688],\n",
       "    [-88.471115, 31.895754],\n",
       "    [-88.241084, 33.796253],\n",
       "    [-88.098683, 34.891641],\n",
       "    [-88.202745, 34.995703],\n",
       "    [-87.359296, 35.00118]]]}}"
      ]
     },
     "execution_count": 16,
     "metadata": {},
     "output_type": "execute_result"
    }
   ],
   "source": [
    "# Sample State Geometry\n",
    "state_geo['features'][0]"
   ]
  },
  {
   "cell_type": "markdown",
   "metadata": {},
   "source": [
    "## Define Bin Sizes"
   ]
  },
  {
   "cell_type": "code",
   "execution_count": 23,
   "metadata": {},
   "outputs": [],
   "source": [
    "# Equally spaced bins based on number of cases\n",
    "bin_edges_states = np.linspace(0,state_data.cases.max(),50)\n",
    "bin_edges_counties = np.linspace(0,county_data.cases.max(),50)\n",
    "\n",
    "# Could do it on logarithmic scale or other method to increase / decrease \"severity coloring\"\n",
    "# Potentially in line with county population density or based on rate of increase of cases / deaths\n",
    "# Death rate based on age of population + density"
   ]
  },
  {
   "cell_type": "markdown",
   "metadata": {},
   "source": [
    "## Define Color Scale\n",
    "Used this tool: <br>\n",
    "https://gka.github.io/palettes/#/0|s|94003a|ffffe0,ff005e,93003a|1|1"
   ]
  },
  {
   "cell_type": "code",
   "execution_count": 22,
   "metadata": {},
   "outputs": [
    {
     "data": {
      "image/png": "[encoded data removed]",
      "text/plain": [
       "<Figure size 3600x72 with 1 Axes>"
      ]
     },
     "metadata": {
      "needs_background": "light"
     },
     "output_type": "display_data"
    }
   ],
   "source": [
    "fifty_color_red = ['#490000', '#4f0002', '#540009', '#5a0010', '#600015', '#660019', '#6c001d', '#720022', '#780026', '#7f002a', '#85002f', '#8b0033', '#920038', '#97063c', '#9b0f40', '#a01643', '#a41c46', '#a9224a', '#ad274d', '#b22c51', '#b73155', '#bb3558', '#c03a5c', '#c43e60', '#c94363', '#ce4767', '#d24b6b', '#d7506e', '#db5472', '#e05876', '#e55c7a', '#e9617e', '#ee6582', '#f36986', '#f86d8a', '#fc728e', '#ff7793', '#ff7f9a', '#ff86a1', '#ff8da7', '#ff93ae', '#ff9ab4', '#ffa0ba', '#ffa7c1', '#ffadc7', '#ffb3cd', '#ffb9d3', '#ffbfd8', '#ffc5de', '#ffcbe4']\n",
    "fifty_color_red.reverse()\n",
    "color_scale = np.array(fifty_color_red)\n",
    "sns.palplot(sns.color_palette(color_scale))"
   ]
  },
  {
   "cell_type": "code",
   "execution_count": 24,
   "metadata": {},
   "outputs": [],
   "source": [
    "def color_coding(value, bin_edges):  \n",
    "    # Returns color based on where value lies in the provided bin\n",
    "    idx = np.digitize(value, bin_edges, right=True)\n",
    "    return color_scale[idx]\n"
   ]
  },
  {
   "cell_type": "markdown",
   "metadata": {},
   "source": [
    "## Generate Color based on row value"
   ]
  },
  {
   "cell_type": "code",
   "execution_count": 25,
   "metadata": {},
   "outputs": [],
   "source": [
    "state_data['color'] = state_data['cases'].apply(lambda x: color_coding(x,bin_edges_states))\n",
    "county_data['color'] = county_data['cases'].apply(lambda x: color_coding(x,bin_edges_counties))"
   ]
  },
  {
   "cell_type": "markdown",
   "metadata": {},
   "source": [
    "## Adjust fips from float to int and fix leading zero issue"
   ]
  },
  {
   "cell_type": "code",
   "execution_count": 29,
   "metadata": {},
   "outputs": [],
   "source": [
    "county_data.fips = county_data.fips.apply(lambda x: '0'+ str(int(x)) if len(str(x))<7 else str(int(x)))"
   ]
  },
  {
   "cell_type": "markdown",
   "metadata": {},
   "source": [
    "## Make GeoJSON Lookup Dict"
   ]
  },
  {
   "cell_type": "markdown",
   "metadata": {},
   "source": [
    "Potentially a index by method versus making a new cache, but this will suffice for now"
   ]
  },
  {
   "cell_type": "code",
   "execution_count": 31,
   "metadata": {},
   "outputs": [],
   "source": [
    "# COUNTY\n",
    "counties = county_geo['features']\n",
    "master_counties = {}\n",
    "for each in counties:\n",
    "    master_counties[each['properties']['GEO_ID'][-5:]] = each\n",
    "    "
   ]
  },
  {
   "cell_type": "code",
   "execution_count": null,
   "metadata": {},
   "outputs": [],
   "source": [
    "# States Feature List Generation\n",
    "def create_geojson_features_modded(df):\n",
    "    print('> Creating GeoJSON features...')\n",
    "    features = []\n",
    "    for _, row in df.iterrows():\n",
    "        feature = {}\n",
    "        for state in geo_state_features['features']:\n",
    "            if row.state == state['id']:\n",
    "                feature = state\n",
    "        feature['properties']['time'] = row.date\n",
    "        feature['properties']['cases'] = row.cases\n",
    "        feature['properties']['style'] = {'fillColor':row['log_color'],'fillOpacity': 0.5,'weight':0.5}\n",
    "        test = copy.deepcopy(feature)\n",
    "        features.append(test)\n",
    "    print(\"COMPLETED\")\n",
    "    return features"
   ]
  },
  {
   "cell_type": "code",
   "execution_count": 17,
   "metadata": {},
   "outputs": [],
   "source": [
    "# Counties Feature List Generation\n",
    "def create_geojson_features_counties(df):\n",
    "    print('> Creating GeoJSON features...')\n",
    "    features = []\n",
    "    for _, row in df.iterrows():\n",
    "        feature = {}\n",
    "        feature = master[row.fips]\n",
    "        feature['properties']['time'] = row.date\n",
    "        feature['properties']['cases'] = row.cases\n",
    "        feature['properties']['style'] = {'fillColor':row['color'],'fillOpacity': 0.75,'weight':0.25}\n",
    "        test = copy.deepcopy(feature)\n",
    "        features.append(test)\n",
    "    print(\"COMPLETED\")\n",
    "    return features"
   ]
  },
  {
   "cell_type": "code",
   "execution_count": 18,
   "metadata": {
    "scrolled": true
   },
   "outputs": [
    {
     "name": "stdout",
     "output_type": "stream",
     "text": [
      "> Creating GeoJSON features...\n",
      "COMPLETED\n"
     ]
    }
   ],
   "source": [
    "a = create_geojson_features_modded(df)"
   ]
  },
  {
   "cell_type": "code",
   "execution_count": 19,
   "metadata": {},
   "outputs": [],
   "source": [
    "def make_map(features):\n",
    "    print('> Making map...')\n",
    "    start=[48, -102]\n",
    "    USA_map = folium.Map(location=start, control_scale=True, zoom_start=5)\n",
    "\n",
    "    TimestampedGeoJson(\n",
    "        {'type': 'FeatureCollection',\n",
    "        'features': a}\n",
    "        , period='P1D'\n",
    "        , duration='P1D'\n",
    "        , add_last_point=False\n",
    "        , auto_play=False\n",
    "        , loop=False\n",
    "        , max_speed=1\n",
    "        , loop_button=True\n",
    "        , date_options='YYYY-MM-DD'\n",
    "        , time_slider_drag_update=True\n",
    "    ).add_to(USA_map)\n",
    "    print('> Done.')\n",
    "    return USA_map\n"
   ]
  },
  {
   "cell_type": "code",
   "execution_count": 20,
   "metadata": {},
   "outputs": [
    {
     "name": "stdout",
     "output_type": "stream",
     "text": [
      "> Making map...\n",
      "> Done.\n"
     ]
    }
   ],
   "source": [
    "my_map = make_map(a)"
   ]
  },
  {
   "cell_type": "code",
   "execution_count": 21,
   "metadata": {},
   "outputs": [],
   "source": [
    "my_map.save('COVID_COUNTIES_USA.html')"
   ]
  },
  {
   "cell_type": "code",
   "execution_count": null,
   "metadata": {},
   "outputs": [],
   "source": []
  },
  {
   "cell_type": "code",
   "execution_count": null,
   "metadata": {},
   "outputs": [],
   "source": []
  }
 ],
 "metadata": {
  "kernelspec": {
   "display_name": "Python 3",
   "language": "python",
   "name": "python3"
  },
  "language_info": {
   "codemirror_mode": {
    "name": "ipython",
    "version": 3
   },
   "file_extension": ".py",
   "mimetype": "text/x-python",
   "name": "python",
   "nbconvert_exporter": "python",
   "pygments_lexer": "ipython3",
   "version": "3.7.3"
  }
 },
 "nbformat": 4,
 "nbformat_minor": 2
}
