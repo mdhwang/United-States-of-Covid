{
 "cells": [
  {
   "cell_type": "code",
   "execution_count": 29,
   "metadata": {},
   "outputs": [],
   "source": [
    "import pandas as pd\n",
    "import folium\n",
    "import json\n",
    "import math\n",
    "\n",
    "import pandas as pd\n",
    "import numpy as np\n",
    "\n",
    "import seaborn as sns\n",
    "import folium\n",
    "from folium.plugins import TimestampedGeoJson\n",
    "\n",
    "import copy\n",
    "\n",
    "geo_counties_json = os.path.join('data','gz_2010_us_050_00_20m.json')\n",
    "geo_states_json = os.path.join('data','gz_2010_us_040_00_20m.json')"
   ]
  },
  {
   "cell_type": "markdown",
   "metadata": {},
   "source": [
    "# Gather Data from Separate Repo\n",
    "Refresh data from source repo <br>\n",
    "`git fetch --all`<br>\n",
    "`git reset --hard origin/master`"
   ]
  },
  {
   "cell_type": "markdown",
   "metadata": {},
   "source": [
    "## Import data into dataframes"
   ]
  },
  {
   "cell_type": "code",
   "execution_count": 30,
   "metadata": {},
   "outputs": [
    {
     "name": "stdout",
     "output_type": "stream",
     "text": [
      "Received latest NYT Data\n"
     ]
    }
   ],
   "source": [
    "try:\n",
    "    counties_url = 'https://raw.githubusercontent.com/nytimes/covid-19-data/master/us-counties.csv'\n",
    "    states_url = 'https://raw.githubusercontent.com/nytimes/covid-19-data/master/us-states.csv'\n",
    "    county_data = pd.read_csv(data_path+'us-counties.csv')\n",
    "    state_data = pd.read_csv(data_path+'us-states.csv')\n",
    "    print(\"Received latest NYT Data\")\n",
    "except:\n",
    "    county_data = pd.read_csv('data/us-counties.csv')\n",
    "    state_data = pd.read_csv('data/us-states.csv')\n",
    "    print(\"Could not get latest NYT Data, falling back to local 4-3-20 data\")\n",
    "county_data = county_data.dropna()\n",
    "state_data = state_data.dropna()"
   ]
  },
  {
   "cell_type": "code",
   "execution_count": 31,
   "metadata": {},
   "outputs": [],
   "source": [
    "# Clean up State Data for ones that don't have Geo Data\n",
    "remove = [\"District of Columbia\",\"Puerto Rico\",\"Virgin Islands\",\"Northern Mariana Islands\",\"Guam\"]\n",
    "state_data = state_data[-state_data.state.isin(remove)]"
   ]
  },
  {
   "cell_type": "markdown",
   "metadata": {},
   "source": [
    "## Import US Geography JSON Files"
   ]
  },
  {
   "cell_type": "code",
   "execution_count": 32,
   "metadata": {},
   "outputs": [],
   "source": [
    "with open(geo_counties_json,encoding = \"ISO-8859-1\") as file:\n",
    "    county_geo = json.load(file)\n",
    "with open(geo_states_json) as file:\n",
    "    state_geo = json.load(file)"
   ]
  },
  {
   "cell_type": "code",
   "execution_count": 33,
   "metadata": {},
   "outputs": [
    {
     "data": {
      "text/plain": [
       "{'type': 'Feature',\n",
       " 'properties': {'GEO_ID': '0500000US01001',\n",
       "  'STATE': '01',\n",
       "  'COUNTY': '001',\n",
       "  'NAME': 'Autauga',\n",
       "  'LSAD': 'County',\n",
       "  'CENSUSAREA': 594.436},\n",
       " 'geometry': {'type': 'Polygon',\n",
       "  'coordinates': [[[-86.496774, 32.344437],\n",
       "    [-86.717897, 32.402814],\n",
       "    [-86.814912, 32.340803],\n",
       "    [-86.890581, 32.502974],\n",
       "    [-86.917595, 32.664169],\n",
       "    [-86.71339, 32.661732],\n",
       "    [-86.714219, 32.705694],\n",
       "    [-86.413116, 32.707386],\n",
       "    [-86.411172, 32.409937],\n",
       "    [-86.496774, 32.344437]]]}}"
      ]
     },
     "execution_count": 33,
     "metadata": {},
     "output_type": "execute_result"
    }
   ],
   "source": [
    "# Sample County Geometry\n",
    "# Use FIPS code as last 5 digits of GEO_ID\n",
    "county_geo['features'][0]"
   ]
  },
  {
   "cell_type": "code",
   "execution_count": 34,
   "metadata": {},
   "outputs": [
    {
     "data": {
      "text/plain": [
       "{'type': 'Feature',\n",
       " 'properties': {'GEO_ID': '0400000US04',\n",
       "  'STATE': '04',\n",
       "  'NAME': 'Arizona',\n",
       "  'LSAD': '',\n",
       "  'CENSUSAREA': 113594.084},\n",
       " 'geometry': {'type': 'Polygon',\n",
       "  'coordinates': [[[-112.538593, 37.000674],\n",
       "    [-112.534545, 37.000684],\n",
       "    [-112.368946, 37.001125],\n",
       "    [-112.35769, 37.001025],\n",
       "    [-111.412784, 37.001478],\n",
       "    [-111.405869, 37.001481],\n",
       "    [-111.405517, 37.001497],\n",
       "    [-111.189888, 37.000959],\n",
       "    [-110.75069, 37.003197],\n",
       "    [-110.495259, 37.003875],\n",
       "    [-110.33105, 36.998216],\n",
       "    [-110.000677, 36.997968],\n",
       "    [-109.381226, 36.999148],\n",
       "    [-109.378039, 36.999135],\n",
       "    [-109.270097, 36.999266],\n",
       "    [-109.268213, 36.999242],\n",
       "    [-109.26339, 36.999263],\n",
       "    [-109.246917, 36.999346],\n",
       "    [-109.233848, 36.999266],\n",
       "    [-109.181196, 36.999271],\n",
       "    [-109.045223, 36.999084],\n",
       "    [-109.045244, 36.969489],\n",
       "    [-109.045272, 36.968871],\n",
       "    [-109.045407, 36.874998],\n",
       "    [-109.045433, 36.874589],\n",
       "    [-109.045973, 36.002338],\n",
       "    [-109.046011, 35.925896],\n",
       "    [-109.046054, 35.92586],\n",
       "    [-109.046055, 35.888721],\n",
       "    [-109.046024, 35.8798],\n",
       "    [-109.046295, 35.616517],\n",
       "    [-109.046296, 35.614251],\n",
       "    [-109.046509, 35.54644],\n",
       "    [-109.046481, 35.546326],\n",
       "    [-109.046082, 35.174665],\n",
       "    [-109.045851, 34.959718],\n",
       "    [-109.046156, 34.579291],\n",
       "    [-109.046182, 34.522553],\n",
       "    [-109.046182, 34.522393],\n",
       "    [-109.046627, 33.778233],\n",
       "    [-109.04687, 33.372654],\n",
       "    [-109.047045, 33.36928],\n",
       "    [-109.046909, 33.36557],\n",
       "    [-109.046827, 33.365272],\n",
       "    [-109.047237, 33.208965],\n",
       "    [-109.047116, 33.137995],\n",
       "    [-109.047117, 33.137559],\n",
       "    [-109.047013, 33.092917],\n",
       "    [-109.046905, 33.091931],\n",
       "    [-109.047453, 33.069427],\n",
       "    [-109.04748, 33.06842],\n",
       "    [-109.047117, 32.77757],\n",
       "    [-109.047117, 32.777569],\n",
       "    [-109.047638, 32.693439],\n",
       "    [-109.047645, 32.689988],\n",
       "    [-109.047653, 32.686327],\n",
       "    [-109.047653, 32.681379],\n",
       "    [-109.047926, 32.426376],\n",
       "    [-109.048286, 32.089114],\n",
       "    [-109.048296, 32.084093],\n",
       "    [-109.048731, 32.028174],\n",
       "    [-109.048599, 32.013651],\n",
       "    [-109.04859, 31.870791],\n",
       "    [-109.048769, 31.861383],\n",
       "    [-109.048763, 31.810776],\n",
       "    [-109.049195, 31.796551],\n",
       "    [-109.049813, 31.499528],\n",
       "    [-109.049843, 31.499515],\n",
       "    [-109.050044, 31.332502],\n",
       "    [-109.426931, 31.334033],\n",
       "    [-110.460172, 31.333051],\n",
       "    [-110.760997, 31.332765],\n",
       "    [-110.976828, 31.33256],\n",
       "    [-111.098097, 31.339836],\n",
       "    [-111.366635, 31.42588],\n",
       "    [-111.57953, 31.494095],\n",
       "    [-112.246102, 31.704195],\n",
       "    [-112.867074, 31.895488],\n",
       "    [-113.125961, 31.97278],\n",
       "    [-113.333794, 32.038521],\n",
       "    [-113.493196, 32.088943],\n",
       "    [-114.250775, 32.32391],\n",
       "    [-114.813613, 32.494277],\n",
       "    [-114.809393, 32.617119],\n",
       "    [-114.80739, 32.621332],\n",
       "    [-114.799302, 32.625115],\n",
       "    [-114.781872, 32.62505],\n",
       "    [-114.753111, 32.658304],\n",
       "    [-114.748, 32.664184],\n",
       "    [-114.719633, 32.718763],\n",
       "    [-114.678632, 32.736614],\n",
       "    [-114.677091, 32.736218],\n",
       "    [-114.65884, 32.73383],\n",
       "    [-114.65826, 32.733799],\n",
       "    [-114.615585, 32.728446],\n",
       "    [-114.615733, 32.729427],\n",
       "    [-114.496827, 32.822119],\n",
       "    [-114.496284, 32.822326],\n",
       "    [-114.465715, 32.879191],\n",
       "    [-114.465715, 32.87942],\n",
       "    [-114.46289, 32.905797],\n",
       "    [-114.468605, 32.971649],\n",
       "    [-114.511343, 33.023455],\n",
       "    [-114.516912, 33.026871],\n",
       "    [-114.523578, 33.030961],\n",
       "    [-114.571653, 33.036624],\n",
       "    [-114.578287, 33.035375],\n",
       "    [-114.584765, 33.028231],\n",
       "    [-114.589778, 33.026228],\n",
       "    [-114.606282, 33.025703],\n",
       "    [-114.62387, 33.02872],\n",
       "    [-114.675104, 33.047532],\n",
       "    [-114.707819, 33.091102],\n",
       "    [-114.706175, 33.105335],\n",
       "    [-114.696829, 33.131209],\n",
       "    [-114.687074, 33.142196],\n",
       "    [-114.679359, 33.159519],\n",
       "    [-114.67536, 33.185489],\n",
       "    [-114.672088, 33.258499],\n",
       "    [-114.700103, 33.341045],\n",
       "    [-114.721233, 33.396912],\n",
       "    [-114.665278, 33.415358],\n",
       "    [-114.627125, 33.433554],\n",
       "    [-114.622918, 33.456561],\n",
       "    [-114.594534, 33.495059],\n",
       "    [-114.558898, 33.531819],\n",
       "    [-114.535664, 33.568788],\n",
       "    [-114.535965, 33.569154],\n",
       "    [-114.5403, 33.580615],\n",
       "    [-114.540617, 33.591412],\n",
       "    [-114.530348, 33.679245],\n",
       "    [-114.523959, 33.685879],\n",
       "    [-114.519113, 33.688473],\n",
       "    [-114.496489, 33.696901],\n",
       "    [-114.494197, 33.707922],\n",
       "    [-114.50434, 33.756381],\n",
       "    [-114.523365, 33.80612],\n",
       "    [-114.525539, 33.838614],\n",
       "    [-114.518434, 33.917518],\n",
       "    [-114.499883, 33.961789],\n",
       "    [-114.46361, 33.993431],\n",
       "    [-114.438266, 34.022609],\n",
       "    [-114.434949, 34.037784],\n",
       "    [-114.435429, 34.079727],\n",
       "    [-114.43338, 34.088413],\n",
       "    [-114.420499, 34.103466],\n",
       "    [-114.411681, 34.110031],\n",
       "    [-114.401352, 34.111652],\n",
       "    [-114.390565, 34.110084],\n",
       "    [-114.366521, 34.118575],\n",
       "    [-114.321618, 34.138093],\n",
       "    [-114.312592, 34.144453],\n",
       "    [-114.244191, 34.179625],\n",
       "    [-114.225861, 34.201774],\n",
       "    [-114.164476, 34.251667],\n",
       "    [-114.133264, 34.258462],\n",
       "    [-114.131489, 34.260387],\n",
       "    [-114.138282, 34.30323],\n",
       "    [-114.176909, 34.349306],\n",
       "    [-114.199482, 34.361373],\n",
       "    [-114.264317, 34.401329],\n",
       "    [-114.339627, 34.451435],\n",
       "    [-114.452547, 34.653494],\n",
       "    [-114.465607, 34.69226],\n",
       "    [-114.552682, 34.766871],\n",
       "    [-114.633051, 34.869971],\n",
       "    [-114.635176, 34.875003],\n",
       "    [-114.636725, 34.889107],\n",
       "    [-114.630877, 34.907263],\n",
       "    [-114.629015, 34.986148],\n",
       "    [-114.62919, 34.991887],\n",
       "    [-114.633013, 35.002085],\n",
       "    [-114.633544, 35.015644],\n",
       "    [-114.635469, 35.028266],\n",
       "    [-114.621956, 35.094678],\n",
       "    [-114.59912, 35.12105],\n",
       "    [-114.5843, 35.124999],\n",
       "    [-114.578524, 35.12875],\n",
       "    [-114.572747, 35.138725],\n",
       "    [-114.569569, 35.163053],\n",
       "    [-114.569238, 35.18348],\n",
       "    [-114.595931, 35.325234],\n",
       "    [-114.604314, 35.353584],\n",
       "    [-114.627137, 35.409504],\n",
       "    [-114.652005, 35.429165],\n",
       "    [-114.662125, 35.444241],\n",
       "    [-114.677643, 35.489742],\n",
       "    [-114.676733, 35.499063],\n",
       "    [-114.674981, 35.510564],\n",
       "    [-114.671147, 35.520641],\n",
       "    [-114.653806, 35.59949],\n",
       "    [-114.653406, 35.610789],\n",
       "    [-114.657506, 35.618289],\n",
       "    [-114.676707, 35.640989],\n",
       "    [-114.689407, 35.651412],\n",
       "    [-114.700308, 35.700387],\n",
       "    [-114.70771, 35.811885],\n",
       "    [-114.705611, 35.848884],\n",
       "    [-114.704211, 35.851984],\n",
       "    [-114.70613, 35.878712],\n",
       "    [-114.731296, 35.945157],\n",
       "    [-114.743576, 35.983721],\n",
       "    [-114.755618, 36.087166],\n",
       "    [-114.744857, 36.098693],\n",
       "    [-114.736165, 36.104367],\n",
       "    [-114.631716, 36.142306],\n",
       "    [-114.572031, 36.15161],\n",
       "    [-114.513256, 36.151217],\n",
       "    [-114.381446, 36.141665],\n",
       "    [-114.365835, 36.133722],\n",
       "    [-114.328777, 36.105501],\n",
       "    [-114.310857, 36.083787],\n",
       "    [-114.307235, 36.076544],\n",
       "    [-114.303614, 36.066456],\n",
       "    [-114.292663, 36.051118],\n",
       "    [-114.263146, 36.025937],\n",
       "    [-114.252651, 36.020193],\n",
       "    [-114.238799, 36.014561],\n",
       "    [-114.233289, 36.014289],\n",
       "    [-114.21369, 36.015613],\n",
       "    [-114.15413, 36.023862],\n",
       "    [-114.148774, 36.02731],\n",
       "    [-114.138202, 36.041284],\n",
       "    [-114.125796, 36.077531],\n",
       "    [-114.120193, 36.102228],\n",
       "    [-114.063021, 36.186942],\n",
       "    [-114.060302, 36.189363],\n",
       "    [-114.046838, 36.194069],\n",
       "    [-114.047106, 36.250591],\n",
       "    [-114.048515, 36.289598],\n",
       "    [-114.046403, 36.371873],\n",
       "    [-114.046488, 36.473449],\n",
       "    [-114.050562, 36.656259],\n",
       "    [-114.050578, 36.800173],\n",
       "    [-114.050583, 36.843141],\n",
       "    [-114.0506, 37.000396],\n",
       "    [-113.965907, 37.000025],\n",
       "    [-113.965907, 36.999976],\n",
       "    [-112.966471, 37.000219],\n",
       "    [-112.899366, 37.000319],\n",
       "    [-112.609787, 37.000753],\n",
       "    [-112.558974, 37.000692],\n",
       "    [-112.545094, 37.000734],\n",
       "    [-112.540368, 37.000669],\n",
       "    [-112.538593, 37.000674]]]}}"
      ]
     },
     "execution_count": 34,
     "metadata": {},
     "output_type": "execute_result"
    }
   ],
   "source": [
    "# Sample State Geometry\n",
    "state_geo['features'][0]"
   ]
  },
  {
   "cell_type": "markdown",
   "metadata": {},
   "source": [
    "## Define Bin Sizes"
   ]
  },
  {
   "cell_type": "code",
   "execution_count": 35,
   "metadata": {},
   "outputs": [],
   "source": [
    "# Equally spaced bins based on number of cases\n",
    "bin_edges_states = np.linspace(0,state_data.cases.max(),50)\n",
    "bin_edges_counties = np.linspace(0,county_data.cases.max(),50)\n",
    "\n",
    "# Could do it on logarithmic scale or other method to increase / decrease \"severity coloring\"\n",
    "# Potentially in line with county population density or based on rate of increase of cases / deaths\n",
    "# Death rate based on age of population + density"
   ]
  },
  {
   "cell_type": "markdown",
   "metadata": {},
   "source": [
    "## Define Color Scale\n",
    "Used this tool: <br>\n",
    "https://gka.github.io/palettes/#/0|s|94003a|ffffe0,ff005e,93003a|1|1"
   ]
  },
  {
   "cell_type": "code",
   "execution_count": 36,
   "metadata": {},
   "outputs": [
    {
     "data": {
      "image/png": "[encoded data removed]",
      "text/plain": [
       "<Figure size 3600x72 with 1 Axes>"
      ]
     },
     "metadata": {
      "needs_background": "light"
     },
     "output_type": "display_data"
    }
   ],
   "source": [
    "fifty_color_red = ['#490000', '#4f0002', '#540009', '#5a0010', '#600015', '#660019', '#6c001d', '#720022', '#780026', '#7f002a', '#85002f', '#8b0033', '#920038', '#97063c', '#9b0f40', '#a01643', '#a41c46', '#a9224a', '#ad274d', '#b22c51', '#b73155', '#bb3558', '#c03a5c', '#c43e60', '#c94363', '#ce4767', '#d24b6b', '#d7506e', '#db5472', '#e05876', '#e55c7a', '#e9617e', '#ee6582', '#f36986', '#f86d8a', '#fc728e', '#ff7793', '#ff7f9a', '#ff86a1', '#ff8da7', '#ff93ae', '#ff9ab4', '#ffa0ba', '#ffa7c1', '#ffadc7', '#ffb3cd', '#ffb9d3', '#ffbfd8', '#ffc5de', '#ffcbe4']\n",
    "fifty_color_red.reverse()\n",
    "color_scale = np.array(fifty_color_red)\n",
    "sns.palplot(sns.color_palette(color_scale))"
   ]
  },
  {
   "cell_type": "code",
   "execution_count": 37,
   "metadata": {},
   "outputs": [],
   "source": [
    "def color_coding(value, bin_edges):  \n",
    "    # Returns color based on where value lies in the provided bin\n",
    "    idx = np.digitize(value, bin_edges, right=True)\n",
    "    return color_scale[idx]\n"
   ]
  },
  {
   "cell_type": "markdown",
   "metadata": {},
   "source": [
    "## Generate Color based on row value"
   ]
  },
  {
   "cell_type": "code",
   "execution_count": 38,
   "metadata": {},
   "outputs": [],
   "source": [
    "state_data['color'] = state_data['cases'].apply(lambda x: color_coding(x,bin_edges_states))\n",
    "county_data['color'] = county_data['cases'].apply(lambda x: color_coding(x,bin_edges_counties))"
   ]
  },
  {
   "cell_type": "markdown",
   "metadata": {},
   "source": [
    "## Adjust fips from float to int and fix leading zero issue"
   ]
  },
  {
   "cell_type": "code",
   "execution_count": 55,
   "metadata": {},
   "outputs": [],
   "source": [
    "county_data.fips = county_data.fips.apply(lambda x: '0'+ str(int(x)) if len(str(x)) < 5 else str(int(x)))\n",
    "state_data.fips = state_data.fips.apply(lambda x: '0' + str(int(x)) if len(str(x)) < 2 else str(int(x)))"
   ]
  },
  {
   "cell_type": "code",
   "execution_count": 56,
   "metadata": {},
   "outputs": [
    {
     "data": {
      "text/plain": [
       "0       53\n",
       "1       53\n",
       "2       53\n",
       "3       17\n",
       "4       53\n",
       "5       06\n",
       "6       17\n",
       "7       53\n",
       "8       04\n",
       "9       06\n",
       "10      17\n",
       "11      53\n",
       "12      04\n",
       "13      06\n",
       "14      17\n",
       "15      53\n",
       "16      04\n",
       "17      06\n",
       "18      17\n",
       "19      53\n",
       "20      04\n",
       "21      06\n",
       "22      17\n",
       "23      53\n",
       "24      04\n",
       "25      06\n",
       "26      17\n",
       "27      53\n",
       "28      04\n",
       "29      06\n",
       "        ..\n",
       "1741    25\n",
       "1742    26\n",
       "1743    27\n",
       "1744    28\n",
       "1745    29\n",
       "1746    30\n",
       "1747    31\n",
       "1748    32\n",
       "1749    33\n",
       "1750    34\n",
       "1751    35\n",
       "1752    36\n",
       "1753    37\n",
       "1754    38\n",
       "1756    39\n",
       "1757    40\n",
       "1758    41\n",
       "1759    42\n",
       "1761    44\n",
       "1762    45\n",
       "1763    46\n",
       "1764    47\n",
       "1765    48\n",
       "1766    49\n",
       "1767    50\n",
       "1769    51\n",
       "1770    53\n",
       "1771    54\n",
       "1772    55\n",
       "1773    56\n",
       "Name: fips, Length: 1676, dtype: object"
      ]
     },
     "execution_count": 56,
     "metadata": {},
     "output_type": "execute_result"
    }
   ],
   "source": [
    "state_data.fips"
   ]
  },
  {
   "cell_type": "markdown",
   "metadata": {},
   "source": [
    "## Make GeoJSON Lookup Dict"
   ]
  },
  {
   "cell_type": "markdown",
   "metadata": {},
   "source": [
    "Potentially a index by method versus making a new cache, but this will suffice for now"
   ]
  },
  {
   "cell_type": "code",
   "execution_count": 57,
   "metadata": {},
   "outputs": [],
   "source": [
    "# COUNTY\n",
    "counties = county_geo['features']\n",
    "counties_geo_dict = {}\n",
    "for each in counties:\n",
    "    counties_geo_dict[each['properties']['GEO_ID'][-5:]] = each\n",
    "    \n",
    "# STATE\n",
    "state = state_geo['features']\n",
    "states_geo_dict = {}\n",
    "for each in state:\n",
    "    states_geo_dict[each['properties']['STATE']] = each\n",
    "    "
   ]
  },
  {
   "cell_type": "code",
   "execution_count": 58,
   "metadata": {},
   "outputs": [],
   "source": [
    "# States Feature List Generation\n",
    "def create_geojson_features_modded(df,geo_dict):\n",
    "    print('> Creating GeoJSON features...')\n",
    "    features = []\n",
    "    for _, row in df.iterrows():\n",
    "        feature = {}\n",
    "        feature = geo_dict[row.fips]\n",
    "        feature['properties']['time'] = row.date\n",
    "        feature['properties']['cases'] = row.cases\n",
    "        feature['properties']['style'] = {'fillColor':row['color'],'fillOpacity': 0.75,'weight':0.5}\n",
    "        test = copy.deepcopy(feature)\n",
    "        features.append(test)\n",
    "    print(\"COMPLETED\")\n",
    "    return features"
   ]
  },
  {
   "cell_type": "code",
   "execution_count": 59,
   "metadata": {},
   "outputs": [
    {
     "name": "stdout",
     "output_type": "stream",
     "text": [
      "> Creating GeoJSON features...\n",
      "COMPLETED\n"
     ]
    }
   ],
   "source": [
    "states_feature = create_geojson_features_modded(state_data,states_geo_dict)"
   ]
  },
  {
   "cell_type": "code",
   "execution_count": 60,
   "metadata": {
    "scrolled": false
   },
   "outputs": [
    {
     "name": "stdout",
     "output_type": "stream",
     "text": [
      "> Creating GeoJSON features...\n",
      "COMPLETED\n"
     ]
    }
   ],
   "source": [
    "counties_feature = create_geojson_features_modded(county_data,counties_geo_dict)"
   ]
  },
  {
   "cell_type": "code",
   "execution_count": 61,
   "metadata": {},
   "outputs": [],
   "source": [
    "def make_map(features):\n",
    "    print('> Making map...')\n",
    "    start=[48, -102]\n",
    "    USA_map = folium.Map(location=start, control_scale=True, zoom_start=5)\n",
    "\n",
    "    TimestampedGeoJson(\n",
    "        {'type': 'FeatureCollection',\n",
    "        'features': features}\n",
    "        , period='P1D'\n",
    "        , duration='P1D'\n",
    "        , add_last_point=False\n",
    "        , auto_play=False\n",
    "        , loop=False\n",
    "        , max_speed=1\n",
    "        , loop_button=True\n",
    "        , date_options='YYYY-MM-DD'\n",
    "        , time_slider_drag_update=True\n",
    "    ).add_to(USA_map)\n",
    "    print('> Done.')\n",
    "    return USA_map\n"
   ]
  },
  {
   "cell_type": "code",
   "execution_count": 62,
   "metadata": {},
   "outputs": [
    {
     "name": "stdout",
     "output_type": "stream",
     "text": [
      "> Making map...\n",
      "> Done.\n"
     ]
    }
   ],
   "source": [
    "counties_map = make_map(counties_feature)"
   ]
  },
  {
   "cell_type": "code",
   "execution_count": 63,
   "metadata": {},
   "outputs": [],
   "source": [
    "counties_map.save('COVID_COUNTIES_USA.html')"
   ]
  },
  {
   "cell_type": "code",
   "execution_count": 64,
   "metadata": {},
   "outputs": [
    {
     "name": "stdout",
     "output_type": "stream",
     "text": [
      "> Making map...\n",
      "> Done.\n"
     ]
    }
   ],
   "source": [
    "state_map = make_map(states_feature)"
   ]
  },
  {
   "cell_type": "code",
   "execution_count": 65,
   "metadata": {},
   "outputs": [],
   "source": [
    "state_map.save('COVID_STATES_USA.html')"
   ]
  },
  {
   "cell_type": "code",
   "execution_count": null,
   "metadata": {},
   "outputs": [],
   "source": []
  }
 ],
 "metadata": {
  "kernelspec": {
   "display_name": "Python 3",
   "language": "python",
   "name": "python3"
  },
  "language_info": {
   "codemirror_mode": {
    "name": "ipython",
    "version": 3
   },
   "file_extension": ".py",
   "mimetype": "text/x-python",
   "name": "python",
   "nbconvert_exporter": "python",
   "pygments_lexer": "ipython3",
   "version": "3.7.3"
  }
 },
 "nbformat": 4,
 "nbformat_minor": 2
}
